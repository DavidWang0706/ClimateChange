{
 "cells": [
  {
   "cell_type": "code",
   "execution_count": 2,
   "id": "01e18d5e",
   "metadata": {},
   "outputs": [],
   "source": [
    "import numpy as np\n",
    "import os\n",
    "import pandas as pd\n",
    "import matplotlib.pyplot as plt\n",
    "from PIL import Image as im\n",
    "from sklearn.cluster import KMeans\n",
    "#from PIL import Image"
   ]
  },
  {
   "cell_type": "code",
   "execution_count": 7,
   "id": "37697b12",
   "metadata": {},
   "outputs": [
    {
     "data": {
      "image/png": "[encoded data removed]",
      "text/plain": [
       "<Figure size 1296x720 with 1 Axes>"
      ]
     },
     "metadata": {
      "needs_background": "light"
     },
     "output_type": "display_data"
    }
   ],
   "source": [
    "data = pd.read_csv('CESM_csvfile/day1.csv', header = None)\n",
    "arr = data.values\n",
    "train = arr.reshape(-1,1)\n",
    "    \n",
    "numberofcluster = (train.max() - train.min())//100\n",
    "kmeans = KMeans(n_clusters =numberofcluster).fit(train)\n",
    "                    \n",
    "segmented_img = kmeans.cluster_centers_[kmeans.labels_]\n",
    "segmented_img = segmented_img.reshape(arr.shape)\n",
    "filped_img = np.flip(segmented_img,0)\n",
    "\n",
    "plt.figure(figsize=(18,10))\n",
    "plt.imshow(filped_img)\n",
    "plt.savefig('test.png')"
   ]
  },
  {
   "cell_type": "code",
   "execution_count": 1,
   "id": "ef8dca8c",
   "metadata": {},
   "outputs": [
    {
     "ename": "NameError",
     "evalue": "name 'os' is not defined",
     "output_type": "error",
     "traceback": [
      "\u001b[1;31m---------------------------------------------------------------------------\u001b[0m",
      "\u001b[1;31mNameError\u001b[0m                                 Traceback (most recent call last)",
      "Input \u001b[1;32mIn [1]\u001b[0m, in \u001b[0;36m<cell line: 2>\u001b[1;34m()\u001b[0m\n\u001b[0;32m      1\u001b[0m path \u001b[38;5;241m=\u001b[39m \u001b[38;5;124m\"\u001b[39m\u001b[38;5;124mCESM_csvfile\u001b[39m\u001b[38;5;124m\"\u001b[39m\n\u001b[1;32m----> 2\u001b[0m \u001b[38;5;28;01mfor\u001b[39;00m filename \u001b[38;5;129;01min\u001b[39;00m \u001b[43mos\u001b[49m\u001b[38;5;241m.\u001b[39mlistdir(path):\n\u001b[0;32m      3\u001b[0m     f \u001b[38;5;241m=\u001b[39m os\u001b[38;5;241m.\u001b[39mpath\u001b[38;5;241m.\u001b[39mjoin(path,filename)\n\u001b[0;32m      5\u001b[0m     \u001b[38;5;28;01mif\u001b[39;00m os\u001b[38;5;241m.\u001b[39mpath\u001b[38;5;241m.\u001b[39misfile(f): \n",
      "\u001b[1;31mNameError\u001b[0m: name 'os' is not defined"
     ]
    }
   ],
   "source": [
    "path = \"CESM_csvfile\"\n",
    "for filename in os.listdir(path):\n",
    "    f = os.path.join(path,filename)\n",
    "    \n",
    "    if os.path.isfile(f): \n",
    "        f_name = 'CESM_csvfile/' + f[13:]\n",
    "        f_name_new = f_name[:-4]\n",
    "        print(f_name_new)         \n",
    "    data = pd.read_csv(f_name, header = None)\n",
    "    arr = data.values\n",
    "    train = arr.reshape(-1,1)\n",
    "    \n",
    "    numberofcluster = (train.max() - train.min())//100\n",
    "    kmeans = KMeans(n_clusters =numberofcluster).fit(train)\n",
    "                    \n",
    "    segmented_img = kmeans.cluster_centers_[kmeans.labels_]\n",
    "    segmented_img = segmented_img.reshape(arr.shape)\n",
    "    filped_img = np.flip(segmented_img,0)\n",
    "    \n",
    "    image_result_sum = im.fromarray(np.uint8(filped_img))\n",
    "    \n",
    "    image_result_sum.save('CESM_pressureonly_imgfile/'+ f_name_new[13:] +'.png')"
   ]
  },
  {
   "cell_type": "code",
   "execution_count": null,
   "id": "5c45c114",
   "metadata": {},
   "outputs": [],
   "source": []
  }
 ],
 "metadata": {
  "kernelspec": {
   "display_name": "Python 3 (ipykernel)",
   "language": "python",
   "name": "python3"
  },
  "language_info": {
   "codemirror_mode": {
    "name": "ipython",
    "version": 3
   },
   "file_extension": ".py",
   "mimetype": "text/x-python",
   "name": "python",
   "nbconvert_exporter": "python",
   "pygments_lexer": "ipython3",
   "version": "3.9.12"
  }
 },
 "nbformat": 4,
 "nbformat_minor": 5
}
