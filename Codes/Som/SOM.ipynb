{
 "cells": [
  {
   "cell_type": "code",
   "execution_count": 1,
   "id": "27b47d21",
   "metadata": {},
   "outputs": [],
   "source": [
    "import numpy as np\n",
    "import pandas as pd\n",
    "from numpy.ma.core import ceil\n",
    "from scipy.spatial import distance #distance calculation\n",
    "from sklearn.preprocessing import MinMaxScaler #normalisation\n",
    "from sklearn.model_selection import train_test_split\n",
    "from sklearn.metrics import accuracy_score #scoring\n",
    "from sklearn.metrics import confusion_matrix\n",
    "import matplotlib.pyplot as plt\n",
    "from matplotlib import animation, colors"
   ]
  },
  {
   "cell_type": "code",
   "execution_count": 2,
   "id": "cb3dfbf6",
   "metadata": {
    "collapsed": true
   },
   "outputs": [
    {
     "data": {
      "text/html": [
       "<div>\n",
       "<style scoped>\n",
       "    .dataframe tbody tr th:only-of-type {\n",
       "        vertical-align: middle;\n",
       "    }\n",
       "\n",
       "    .dataframe tbody tr th {\n",
       "        vertical-align: top;\n",
       "    }\n",
       "\n",
       "    .dataframe thead th {\n",
       "        text-align: right;\n",
       "    }\n",
       "</style>\n",
       "<table border=\"1\" class=\"dataframe\">\n",
       "  <thead>\n",
       "    <tr style=\"text-align: right;\">\n",
       "      <th></th>\n",
       "      <th>0</th>\n",
       "      <th>1</th>\n",
       "      <th>2</th>\n",
       "      <th>3</th>\n",
       "    </tr>\n",
       "  </thead>\n",
       "  <tbody>\n",
       "    <tr>\n",
       "      <th>0</th>\n",
       "      <td>5.1</td>\n",
       "      <td>3.5</td>\n",
       "      <td>1.4</td>\n",
       "      <td>0.2</td>\n",
       "    </tr>\n",
       "    <tr>\n",
       "      <th>1</th>\n",
       "      <td>4.9</td>\n",
       "      <td>3.0</td>\n",
       "      <td>1.4</td>\n",
       "      <td>0.2</td>\n",
       "    </tr>\n",
       "    <tr>\n",
       "      <th>2</th>\n",
       "      <td>4.7</td>\n",
       "      <td>3.2</td>\n",
       "      <td>1.3</td>\n",
       "      <td>0.2</td>\n",
       "    </tr>\n",
       "    <tr>\n",
       "      <th>3</th>\n",
       "      <td>4.6</td>\n",
       "      <td>3.1</td>\n",
       "      <td>1.5</td>\n",
       "      <td>0.2</td>\n",
       "    </tr>\n",
       "    <tr>\n",
       "      <th>4</th>\n",
       "      <td>5.0</td>\n",
       "      <td>3.6</td>\n",
       "      <td>1.4</td>\n",
       "      <td>0.2</td>\n",
       "    </tr>\n",
       "    <tr>\n",
       "      <th>...</th>\n",
       "      <td>...</td>\n",
       "      <td>...</td>\n",
       "      <td>...</td>\n",
       "      <td>...</td>\n",
       "    </tr>\n",
       "    <tr>\n",
       "      <th>145</th>\n",
       "      <td>6.7</td>\n",
       "      <td>3.0</td>\n",
       "      <td>5.2</td>\n",
       "      <td>2.3</td>\n",
       "    </tr>\n",
       "    <tr>\n",
       "      <th>146</th>\n",
       "      <td>6.3</td>\n",
       "      <td>2.5</td>\n",
       "      <td>5.0</td>\n",
       "      <td>1.9</td>\n",
       "    </tr>\n",
       "    <tr>\n",
       "      <th>147</th>\n",
       "      <td>6.5</td>\n",
       "      <td>3.0</td>\n",
       "      <td>5.2</td>\n",
       "      <td>2.0</td>\n",
       "    </tr>\n",
       "    <tr>\n",
       "      <th>148</th>\n",
       "      <td>6.2</td>\n",
       "      <td>3.4</td>\n",
       "      <td>5.4</td>\n",
       "      <td>2.3</td>\n",
       "    </tr>\n",
       "    <tr>\n",
       "      <th>149</th>\n",
       "      <td>5.9</td>\n",
       "      <td>3.0</td>\n",
       "      <td>5.1</td>\n",
       "      <td>1.8</td>\n",
       "    </tr>\n",
       "  </tbody>\n",
       "</table>\n",
       "<p>150 rows × 4 columns</p>\n",
       "</div>"
      ],
      "text/plain": [
       "       0    1    2    3\n",
       "0    5.1  3.5  1.4  0.2\n",
       "1    4.9  3.0  1.4  0.2\n",
       "2    4.7  3.2  1.3  0.2\n",
       "3    4.6  3.1  1.5  0.2\n",
       "4    5.0  3.6  1.4  0.2\n",
       "..   ...  ...  ...  ...\n",
       "145  6.7  3.0  5.2  2.3\n",
       "146  6.3  2.5  5.0  1.9\n",
       "147  6.5  3.0  5.2  2.0\n",
       "148  6.2  3.4  5.4  2.3\n",
       "149  5.9  3.0  5.1  1.8\n",
       "\n",
       "[150 rows x 4 columns]"
      ]
     },
     "execution_count": 2,
     "metadata": {},
     "output_type": "execute_result"
    }
   ],
   "source": [
    "data =  pd.read_csv('iris.data', sep=\",\",header = None)\n"
   ]
  },
  {
   "cell_type": "code",
   "execution_count": 3,
   "id": "5bdd1b05",
   "metadata": {},
   "outputs": [],
   "source": [
    "data_x=data.iloc[:,0:4].to_numpy()\n",
    "data_y=data.iloc[:,4].to_numpy()"
   ]
  },
  {
   "cell_type": "code",
   "execution_count": 4,
   "id": "d56bc586",
   "metadata": {},
   "outputs": [],
   "source": [
    "for i in range(0,data_y.shape[0]):\n",
    "    if data_y[i] == 'Iris-setosa':\n",
    "        data_y[i]=0\n",
    "    if data_y[i] == 'Iris-versicolor':\n",
    "        data_y[i]=1\n",
    "    if data_y[i] == 'Iris-virginica':\n",
    "        data_y[i]=2"
   ]
  },
  {
   "cell_type": "code",
   "execution_count": 5,
   "id": "a0e23559",
   "metadata": {
    "scrolled": true
   },
   "outputs": [
    {
     "name": "stdout",
     "output_type": "stream",
     "text": [
      "(120, 4) (120,) (30, 4) (30,)\n"
     ]
    }
   ],
   "source": [
    "train_x, test_x, train_y, test_y = train_test_split(data_x, data_y, test_size=0.2, random_state=42)\n",
    "print(train_x.shape, train_y.shape, test_x.shape, test_y.shape) # check the shapes"
   ]
  },
  {
   "cell_type": "code",
   "execution_count": 6,
   "id": "2f7cd5ac",
   "metadata": {},
   "outputs": [],
   "source": [
    "# Helper functions\n",
    "\n",
    "# Data Normalisation\n",
    "def minmax_scaler(data):\n",
    "    scaler = MinMaxScaler()\n",
    "    scaled = scaler.fit_transform(data)\n",
    "    return scaled\n",
    "\n",
    "# Euclidean distance\n",
    "def e_distance(x,y):\n",
    "    return distance.euclidean(x,y)\n",
    "\n",
    "# Manhattan distance\n",
    "def m_distance(x,y):\n",
    "    return distance.cityblock(x,y)\n",
    "\n",
    "# Best Matching Unit search\n",
    "def winning_neuron(data, t, som, num_rows, num_cols):\n",
    "    winner = [0,0]\n",
    "    shortest_distance = np.sqrt(data.shape[1]) # initialise with max distance\n",
    "    input_data = data[t]\n",
    "    for row in range(num_rows):\n",
    "        for col in range(num_cols):\n",
    "            distance = e_distance(som[row][col], data[t])\n",
    "            if distance < shortest_distance: \n",
    "                shortest_distance = distance\n",
    "                winner = [row,col]\n",
    "    return winner\n",
    "\n",
    "# Learning rate and neighbourhood range calculation\n",
    "def decay(step, max_steps,max_learning_rate,max_m_dsitance):\n",
    "    coefficient = 1.0 - (np.float64(step)/max_steps)\n",
    "    learning_rate = coefficient*max_learning_rate\n",
    "    neighbourhood_range = ceil(coefficient * max_m_dsitance)\n",
    "    return learning_rate, neighbourhood_range"
   ]
  },
  {
   "cell_type": "markdown",
   "id": "e0a8869d",
   "metadata": {},
   "source": [
    "#  size as 20*20"
   ]
  },
  {
   "cell_type": "code",
   "execution_count": 100,
   "id": "ff7f0298",
   "metadata": {},
   "outputs": [],
   "source": [
    "# hyperparameters\n",
    "num_rows = 20\n",
    "num_cols = 20\n",
    "max_m_dsitance = 4\n",
    "max_learning_rate = 0.5\n",
    "max_steps = int(7.5*10e3)\n",
    "\n",
    "# num_nurons = 5*np.sqrt(train_x.shape[0])\n",
    "# grid_size = ceil(np.sqrt(num_nurons))\n",
    "# print(grid_size)"
   ]
  },
  {
   "cell_type": "markdown",
   "id": "d641450e",
   "metadata": {},
   "source": [
    "# size as 10*10"
   ]
  },
  {
   "cell_type": "code",
   "execution_count": 7,
   "id": "bbff7745",
   "metadata": {},
   "outputs": [],
   "source": [
    "# hyperparameters\n",
    "num_rows = 10\n",
    "num_cols = 10\n",
    "max_m_dsitance = 4\n",
    "max_learning_rate = 0.5\n",
    "max_steps = int(7.5*10e3)\n",
    "\n",
    "# num_nurons = 5*np.sqrt(train_x.shape[0])\n",
    "# grid_size = ceil(np.sqrt(num_nurons))\n",
    "# print(grid_size)"
   ]
  },
  {
   "cell_type": "code",
   "execution_count": null,
   "id": "c49eee07",
   "metadata": {},
   "outputs": [],
   "source": []
  },
  {
   "cell_type": "code",
   "execution_count": 12,
   "id": "8fff9dc6",
   "metadata": {},
   "outputs": [],
   "source": [
    "# hyperparameters\n",
    "num_rows = 6\n",
    "num_cols = 6\n",
    "max_m_dsitance = 4\n",
    "max_learning_rate = 0.5\n",
    "max_steps = int(7.5*10e3)\n",
    "\n",
    "# num_nurons = 5*np.sqrt(train_x.shape[0])\n",
    "# grid_size = ceil(np.sqrt(num_nurons))\n",
    "# print(grid_size)"
   ]
  },
  {
   "cell_type": "code",
   "execution_count": 13,
   "id": "59d63722",
   "metadata": {
    "collapsed": true
   },
   "outputs": [
    {
     "name": "stdout",
     "output_type": "stream",
     "text": [
      "Iteration:  5000\n",
      "Iteration:  10000\n",
      "Iteration:  15000\n",
      "Iteration:  20000\n",
      "Iteration:  25000\n",
      "Iteration:  30000\n",
      "Iteration:  35000\n",
      "Iteration:  40000\n",
      "Iteration:  45000\n",
      "Iteration:  50000\n",
      "Iteration:  55000\n",
      "Iteration:  60000\n",
      "Iteration:  65000\n",
      "Iteration:  70000\n",
      "Iteration:  75000\n",
      "SOM training completed\n"
     ]
    }
   ],
   "source": [
    "#main function\n",
    "\n",
    "train_x_norm = minmax_scaler(train_x) # normalisation\n",
    "\n",
    "# initialising self-organising map\n",
    "num_dims = train_x_norm.shape[1] # numnber of dimensions in the input data\n",
    "np.random.seed(40)\n",
    "som = np.random.random_sample(size=(num_rows, num_cols, num_dims)) # map construction\n",
    "\n",
    "# start training iterations\n",
    "for step in range(max_steps):\n",
    "    if (step+1) % 5000 == 0:\n",
    "        print(\"Iteration: \", step+1) # print out the current iteration for every 5k\n",
    "    learning_rate, neighbourhood_range = decay(step, max_steps,max_learning_rate,max_m_dsitance)\n",
    "\n",
    "    t = np.random.randint(0,high=train_x_norm.shape[0]) # random index of traing data\n",
    "    winner = winning_neuron(train_x_norm, t, som, num_rows, num_cols)\n",
    "    for row in range(num_rows):\n",
    "        for col in range(num_cols):\n",
    "            if m_distance([row,col],winner) <= neighbourhood_range:\n",
    "                som[row][col] += learning_rate*(train_x_norm[t]-som[row][col]) #update neighbour's weight\n",
    "\n",
    "print(\"SOM training completed\")"
   ]
  },
  {
   "cell_type": "code",
   "execution_count": 14,
   "id": "15a79275",
   "metadata": {},
   "outputs": [],
   "source": [
    "# collecting labels\n",
    "\n",
    "label_data = train_y\n",
    "map = np.empty(shape=(num_rows, num_cols), dtype=object)\n",
    "\n",
    "for row in range(num_rows):\n",
    "    for col in range(num_cols):\n",
    "        map[row][col] = [] # empty list to store the label\n",
    "\n",
    "for t in range(train_x_norm.shape[0]):\n",
    "    if (t+1) % 1000 == 0:\n",
    "        print(\"sample data: \", t+1)\n",
    "    winner = winning_neuron(train_x_norm, t, som, num_rows, num_cols)\n",
    "    map[winner[0]][winner[1]].append(label_data[t]) # label of winning neuron"
   ]
  },
  {
   "cell_type": "code",
   "execution_count": 15,
   "id": "c2f87e76",
   "metadata": {},
   "outputs": [
    {
     "data": {
      "image/png": "[encoded data removed]",
      "text/plain": [
       "<Figure size 432x288 with 2 Axes>"
      ]
     },
     "metadata": {
      "needs_background": "light"
     },
     "output_type": "display_data"
    }
   ],
   "source": [
    "# construct label map\n",
    "label_map = np.zeros(shape=(num_rows, num_cols),dtype=np.int64)\n",
    "for row in range(num_rows):\n",
    "    for col in range(num_cols):\n",
    "        label_list = map[row][col]\n",
    "        if len(label_list)==0:\n",
    "            label = 3\n",
    "        else:\n",
    "            label = max(label_list, key=label_list.count)\n",
    "        label_map[row][col] = label\n",
    "\n",
    "title = ('Iteration ' + str(max_steps))\n",
    "cmap = colors.ListedColormap(['tab:green', 'tab:red', 'tab:blue','tab:orange'])\n",
    "plt.imshow(label_map, cmap=cmap)\n",
    "plt.colorbar()\n",
    "plt.title(title)\n",
    "plt.show()"
   ]
  },
  {
   "cell_type": "code",
   "execution_count": 11,
   "id": "71f49ab5",
   "metadata": {},
   "outputs": [
    {
     "data": {
      "text/plain": [
       "array([[list([0]), list([0]), list([]), list([1, 1, 1, 1]), list([1]),\n",
       "        list([1, 1]), list([1]), list([2, 1]), list([1]),\n",
       "        list([2, 2, 2, 2])],\n",
       "       [list([0, 0]), list([]), list([0, 0, 0, 0]), list([]), list([1]),\n",
       "        list([]), list([1, 1]), list([]), list([1, 2]), list([])],\n",
       "       [list([0, 0]), list([0, 0]), list([0]), list([]), list([1, 1]),\n",
       "        list([1, 1]), list([1]), list([2]), list([]), list([2, 2, 2])],\n",
       "       [list([0]), list([0]), list([0, 0, 0]), list([]), list([]),\n",
       "        list([1, 1]), list([1]), list([1, 1]), list([2, 2]), list([2])],\n",
       "       [list([0]), list([0]), list([]), list([0, 0]), list([]),\n",
       "        list([1]), list([]), list([1, 1]), list([]), list([2])],\n",
       "       [list([0]), list([0, 0]), list([0, 0, 0, 0]), list([]),\n",
       "        list([1, 1]), list([1, 1]), list([]), list([2]), list([2, 2]),\n",
       "        list([2])],\n",
       "       [list([0, 0]), list([0]), list([]), list([]), list([1]),\n",
       "        list([2]), list([2, 2, 2]), list([]), list([2]), list([2])],\n",
       "       [list([0]), list([0]), list([0, 0]), list([]), list([1, 1]),\n",
       "        list([1]), list([2]), list([2, 2]), list([2, 2]), list([2])],\n",
       "       [list([0]), list([]), list([]), list([1, 1]), list([1]),\n",
       "        list([1]), list([]), list([2]), list([]), list([2])],\n",
       "       [list([0]), list([0, 0]), list([]), list([]), list([1, 1]),\n",
       "        list([2]), list([2, 2]), list([2]), list([2, 2, 2]), list([])]],\n",
       "      dtype=object)"
      ]
     },
     "execution_count": 11,
     "metadata": {},
     "output_type": "execute_result"
    }
   ],
   "source": [
    "map"
   ]
  },
  {
   "cell_type": "code",
   "execution_count": 22,
   "id": "d58f131b",
   "metadata": {},
   "outputs": [
    {
     "data": {
      "text/plain": [
       "array([1, 0, 2, 1, 1, 0, 1, 2, 1, 1, 2, 0, 0, 0, 0, 1, 2, 1, 1, 2, 0, 2,\n",
       "       0, 2, 2, 2, 2, 2, 0, 0])"
      ]
     },
     "execution_count": 22,
     "metadata": {},
     "output_type": "execute_result"
    }
   ],
   "source": [
    "test_y.astype(int)"
   ]
  },
  {
   "cell_type": "code",
   "execution_count": 20,
   "id": "d339fdf2",
   "metadata": {},
   "outputs": [
    {
     "data": {
      "text/plain": [
       "array([1, 0, 2, 1, 1, 0, 3, 2, 2, 1, 1, 0, 0, 0, 0, 1, 2, 1, 1, 2, 0, 1,\n",
       "       0, 2, 2, 2, 2, 2, 0, 0], dtype=int64)"
      ]
     },
     "execution_count": 20,
     "metadata": {},
     "output_type": "execute_result"
    }
   ],
   "source": [
    "np.array(winner_labels)"
   ]
  },
  {
   "cell_type": "code",
   "execution_count": 23,
   "id": "60eee628",
   "metadata": {},
   "outputs": [
    {
     "name": "stdout",
     "output_type": "stream",
     "text": [
      "Accuracy:  0.8666666666666667\n"
     ]
    }
   ],
   "source": [
    "# test data\n",
    "\n",
    "# using the trained som, search the winning node of corresponding to the test data\n",
    "# get the label of the winning node\n",
    "\n",
    "data = minmax_scaler(test_x) # normalisation\n",
    "\n",
    "winner_labels = []\n",
    "\n",
    "for t in range(data.shape[0]):\n",
    "    winner = winning_neuron(data, t, som, num_rows, num_cols)\n",
    "    row = winner[0]\n",
    "    col = winner[1]\n",
    "    predicted = label_map[row][col]\n",
    "    winner_labels.append(predicted)\n",
    "\n",
    "print(\"Accuracy: \",accuracy_score(test_y.astype(int), np.array(winner_labels)))"
   ]
  },
  {
   "cell_type": "code",
   "execution_count": null,
   "id": "1d1a7598",
   "metadata": {},
   "outputs": [],
   "source": []
  }
 ],
 "metadata": {
  "kernelspec": {
   "display_name": "Python 3 (ipykernel)",
   "language": "python",
   "name": "python3"
  },
  "language_info": {
   "codemirror_mode": {
    "name": "ipython",
    "version": 3
   },
   "file_extension": ".py",
   "mimetype": "text/x-python",
   "name": "python",
   "nbconvert_exporter": "python",
   "pygments_lexer": "ipython3",
   "version": "3.9.12"
  }
 },
 "nbformat": 4,
 "nbformat_minor": 5
}
