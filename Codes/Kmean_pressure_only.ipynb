{
 "cells": [
  {
   "cell_type": "code",
   "execution_count": 2,
   "id": "01e18d5e",
   "metadata": {},
   "outputs": [],
   "source": [
    "import numpy as np\n",
    "import os\n",
    "import pandas as pd\n",
    "import matplotlib.pyplot as plt\n",
    "from PIL import Image as im\n",
    "from sklearn.cluster import KMeans\n",
    "from PIL import Image as im\n",
    "from PIL import Image\n"
   ]
  },
  {
   "cell_type": "markdown",
   "id": "fe83f60b",
   "metadata": {},
   "source": [
    "# Without Normalization using PLT"
   ]
  },
  {
   "cell_type": "code",
   "execution_count": null,
   "id": "ef8dca8c",
   "metadata": {},
   "outputs": [],
   "source": [
    "path = \"CESM_csvfile\"\n",
    "for filename in os.listdir(path):\n",
    "    f = os.path.join(path,filename)\n",
    "    \n",
    "    if os.path.isfile(f): \n",
    "        f_name = 'CESM_csvfile/' + f[13:]\n",
    "        f_name_new = f_name[:-4]\n",
    "    data = pd.read_csv(f_name, header = None)\n",
    "    arr = data.values\n",
    "    train = arr.reshape(-1,1)\n",
    "    \n",
    "    numberofcluster = (train.max() - train.min())//100\n",
    "    kmeans = KMeans(n_clusters =numberofcluster).fit(train)\n",
    "                    \n",
    "    segmented_img = kmeans.cluster_centers_[kmeans.labels_]\n",
    "    segmented_img = segmented_img.reshape(arr.shape)\n",
    "    filped_img = np.flip(segmented_img,0)\n",
    "    \n",
    "    plt.figure(figsize=(18,10))\n",
    "    plt.imshow(filped_img, cmap = 'gray')\n",
    "    \n",
    "    plt.savefig('CESM_pressureonly_imgfile/'+ f_name_new[13:] +'.png')"
   ]
  },
  {
   "cell_type": "markdown",
   "id": "a0748ac5",
   "metadata": {},
   "source": [
    "# Without Normalization using IMAGE"
   ]
  },
  {
   "cell_type": "code",
   "execution_count": null,
   "id": "1df0561e",
   "metadata": {},
   "outputs": [],
   "source": [
    "path = \"../RawData/CESMZ200/CESM_csvfile\"\n",
    "for filename in os.listdir(path):\n",
    "    f = os.path.join(path,filename)\n",
    "    \n",
    "    if os.path.isfile(f): \n",
    "        f_name = '../RawData/CESMZ200/CESM_csvfile/' + f[33:]\n",
    "        f_name_new = f_name[:-4]\n",
    "    data = pd.read_csv(f_name, header = None)\n",
    "    arr = data.values\n",
    "    train = arr.reshape(-1,1)\n",
    "    \n",
    "    numberofcluster = (train.max() - train.min())//100\n",
    "    kmeans = KMeans(n_clusters =numberofcluster).fit(train)\n",
    "                    \n",
    "    segmented_img = kmeans.cluster_centers_[kmeans.labels_]\n",
    "    segmented_img = segmented_img.reshape(arr.shape)\n",
    "    filped_img = np.flip(segmented_img,0)\n",
    "    \n",
    "        \n",
    "    image_result_sum = im.fromarray(np.uint8(filped_img))\n",
    "    image_result_sum.save('../Outputs/Pressure_wout_norm_IMAGE/'+ f_name_new[33:] +'.png')"
   ]
  },
  {
   "cell_type": "markdown",
   "id": "48a2b578",
   "metadata": {},
   "source": [
    "# With Normalization"
   ]
  },
  {
   "cell_type": "code",
   "execution_count": null,
   "id": "583d310d",
   "metadata": {},
   "outputs": [],
   "source": [
    "from sklearn.preprocessing import StandardScaler\n",
    "\n",
    "path = \"CESM_csvfile\"\n",
    "for filename in os.listdir(path):\n",
    "    f = os.path.join(path,filename)\n",
    "    \n",
    "    if os.path.isfile(f): \n",
    "        f_name = 'CESM_csvfile/' + f[13:]\n",
    "        f_name_new = f_name[:-4]\n",
    "    data = pd.read_csv(f_name, header = None)\n",
    "    arr = data.values\n",
    "    train = arr.reshape(-1,1)\n",
    "    \n",
    "    numberofcluster = (train.max() - train.min())//100\n",
    "    \n",
    "    scaler= StandardScaler()\n",
    "    train_scaled =scaler.fit_transform(train) \n",
    "    kmeans = KMeans(n_clusters =numberofcluster).fit(train_scaled)\n",
    "                    \n",
    "    segmented_img = kmeans.cluster_centers_[kmeans.labels_]\n",
    "    segmented_img = segmented_img.reshape(arr.shape)\n",
    "    filped_img = np.flip(segmented_img,0)\n",
    "    \n",
    "    plt.figure(figsize=(18,10))\n",
    "    plt.imshow(filped_img, cmap = 'gray')\n",
    "    \n",
    "    plt.savefig('CESM_pressureonly_normalization_imgfile/'+ f_name_new[13:] +'.png')"
   ]
  },
  {
   "cell_type": "markdown",
   "id": "068a41b6",
   "metadata": {},
   "source": [
    "# with norm using IMGAE(need repair)"
   ]
  },
  {
   "cell_type": "code",
   "execution_count": 9,
   "id": "96cfb6c2",
   "metadata": {
    "scrolled": true
   },
   "outputs": [
    {
     "ename": "KeyboardInterrupt",
     "evalue": "",
     "output_type": "error",
     "traceback": [
      "\u001b[1;31m---------------------------------------------------------------------------\u001b[0m",
      "\u001b[1;31mKeyboardInterrupt\u001b[0m                         Traceback (most recent call last)",
      "\u001b[1;32m<__array_function__ internals>\u001b[0m in \u001b[0;36mwhere\u001b[1;34m(*args, **kwargs)\u001b[0m\n",
      "\u001b[1;31mKeyboardInterrupt\u001b[0m: "
     ]
    },
    {
     "name": "stderr",
     "output_type": "stream",
     "text": [
      "Exception ignored in: 'sklearn.cluster._k_means_fast._relocate_empty_clusters_dense'\n",
      "Traceback (most recent call last):\n",
      "  File \"<__array_function__ internals>\", line 2, in where\n",
      "KeyboardInterrupt\n"
     ]
    },
    {
     "ename": "KeyboardInterrupt",
     "evalue": "",
     "output_type": "error",
     "traceback": [
      "\u001b[1;31m---------------------------------------------------------------------------\u001b[0m",
      "\u001b[1;31mKeyboardInterrupt\u001b[0m                         Traceback (most recent call last)",
      "\u001b[1;32m<__array_function__ internals>\u001b[0m in \u001b[0;36mwhere\u001b[1;34m(*args, **kwargs)\u001b[0m\n",
      "\u001b[1;31mKeyboardInterrupt\u001b[0m: "
     ]
    },
    {
     "name": "stderr",
     "output_type": "stream",
     "text": [
      "Exception ignored in: 'sklearn.cluster._k_means_fast._relocate_empty_clusters_dense'\n",
      "Traceback (most recent call last):\n",
      "  File \"<__array_function__ internals>\", line 2, in where\n",
      "KeyboardInterrupt\n"
     ]
    },
    {
     "ename": "KeyboardInterrupt",
     "evalue": "",
     "output_type": "error",
     "traceback": [
      "\u001b[1;31m---------------------------------------------------------------------------\u001b[0m",
      "\u001b[1;31mKeyboardInterrupt\u001b[0m                         Traceback (most recent call last)",
      "\u001b[1;32m<ipython-input-9-d98b10034d79>\u001b[0m in \u001b[0;36m<module>\u001b[1;34m\u001b[0m\n\u001b[0;32m     16\u001b[0m     \u001b[0mscaler\u001b[0m\u001b[1;33m=\u001b[0m \u001b[0mStandardScaler\u001b[0m\u001b[1;33m(\u001b[0m\u001b[1;33m)\u001b[0m\u001b[1;33m\u001b[0m\u001b[1;33m\u001b[0m\u001b[0m\n\u001b[0;32m     17\u001b[0m     \u001b[0mtrain_scaled\u001b[0m \u001b[1;33m=\u001b[0m\u001b[0mscaler\u001b[0m\u001b[1;33m.\u001b[0m\u001b[0mfit_transform\u001b[0m\u001b[1;33m(\u001b[0m\u001b[0mtrain\u001b[0m\u001b[1;33m)\u001b[0m\u001b[1;33m\u001b[0m\u001b[1;33m\u001b[0m\u001b[0m\n\u001b[1;32m---> 18\u001b[1;33m     \u001b[0mkmeans\u001b[0m \u001b[1;33m=\u001b[0m \u001b[0mKMeans\u001b[0m\u001b[1;33m(\u001b[0m\u001b[0mn_clusters\u001b[0m \u001b[1;33m=\u001b[0m\u001b[0mnumberofcluster\u001b[0m\u001b[1;33m)\u001b[0m\u001b[1;33m.\u001b[0m\u001b[0mfit\u001b[0m\u001b[1;33m(\u001b[0m\u001b[0mtrain_scaled\u001b[0m\u001b[1;33m)\u001b[0m\u001b[1;33m\u001b[0m\u001b[1;33m\u001b[0m\u001b[0m\n\u001b[0m\u001b[0;32m     19\u001b[0m \u001b[1;33m\u001b[0m\u001b[0m\n\u001b[0;32m     20\u001b[0m     \u001b[0msegmented_img\u001b[0m \u001b[1;33m=\u001b[0m \u001b[0mkmeans\u001b[0m\u001b[1;33m.\u001b[0m\u001b[0mcluster_centers_\u001b[0m\u001b[1;33m[\u001b[0m\u001b[0mkmeans\u001b[0m\u001b[1;33m.\u001b[0m\u001b[0mlabels_\u001b[0m\u001b[1;33m]\u001b[0m\u001b[1;33m\u001b[0m\u001b[1;33m\u001b[0m\u001b[0m\n",
      "\u001b[1;32mD:\\Anaconda\\envs\\gpu\\lib\\site-packages\\sklearn\\cluster\\_kmeans.py\u001b[0m in \u001b[0;36mfit\u001b[1;34m(self, X, y, sample_weight)\u001b[0m\n\u001b[0;32m   1016\u001b[0m             centers_init = self._init_centroids(\n\u001b[0;32m   1017\u001b[0m                 \u001b[0mX\u001b[0m\u001b[1;33m,\u001b[0m \u001b[0mx_squared_norms\u001b[0m\u001b[1;33m=\u001b[0m\u001b[0mx_squared_norms\u001b[0m\u001b[1;33m,\u001b[0m \u001b[0minit\u001b[0m\u001b[1;33m=\u001b[0m\u001b[0minit\u001b[0m\u001b[1;33m,\u001b[0m\u001b[1;33m\u001b[0m\u001b[1;33m\u001b[0m\u001b[0m\n\u001b[1;32m-> 1018\u001b[1;33m                 random_state=random_state)\n\u001b[0m\u001b[0;32m   1019\u001b[0m             \u001b[1;32mif\u001b[0m \u001b[0mself\u001b[0m\u001b[1;33m.\u001b[0m\u001b[0mverbose\u001b[0m\u001b[1;33m:\u001b[0m\u001b[1;33m\u001b[0m\u001b[1;33m\u001b[0m\u001b[0m\n\u001b[0;32m   1020\u001b[0m                 \u001b[0mprint\u001b[0m\u001b[1;33m(\u001b[0m\u001b[1;34m\"Initialization complete\"\u001b[0m\u001b[1;33m)\u001b[0m\u001b[1;33m\u001b[0m\u001b[1;33m\u001b[0m\u001b[0m\n",
      "\u001b[1;32mD:\\Anaconda\\envs\\gpu\\lib\\site-packages\\sklearn\\cluster\\_kmeans.py\u001b[0m in \u001b[0;36m_init_centroids\u001b[1;34m(self, X, x_squared_norms, init, random_state, init_size)\u001b[0m\n\u001b[0;32m    934\u001b[0m             centers, _ = _kmeans_plusplus(X, n_clusters,\n\u001b[0;32m    935\u001b[0m                                           \u001b[0mrandom_state\u001b[0m\u001b[1;33m=\u001b[0m\u001b[0mrandom_state\u001b[0m\u001b[1;33m,\u001b[0m\u001b[1;33m\u001b[0m\u001b[1;33m\u001b[0m\u001b[0m\n\u001b[1;32m--> 936\u001b[1;33m                                           x_squared_norms=x_squared_norms)\n\u001b[0m\u001b[0;32m    937\u001b[0m         \u001b[1;32melif\u001b[0m \u001b[0misinstance\u001b[0m\u001b[1;33m(\u001b[0m\u001b[0minit\u001b[0m\u001b[1;33m,\u001b[0m \u001b[0mstr\u001b[0m\u001b[1;33m)\u001b[0m \u001b[1;32mand\u001b[0m \u001b[0minit\u001b[0m \u001b[1;33m==\u001b[0m \u001b[1;34m'random'\u001b[0m\u001b[1;33m:\u001b[0m\u001b[1;33m\u001b[0m\u001b[1;33m\u001b[0m\u001b[0m\n\u001b[0;32m    938\u001b[0m             \u001b[0mseeds\u001b[0m \u001b[1;33m=\u001b[0m \u001b[0mrandom_state\u001b[0m\u001b[1;33m.\u001b[0m\u001b[0mpermutation\u001b[0m\u001b[1;33m(\u001b[0m\u001b[0mn_samples\u001b[0m\u001b[1;33m)\u001b[0m\u001b[1;33m[\u001b[0m\u001b[1;33m:\u001b[0m\u001b[0mn_clusters\u001b[0m\u001b[1;33m]\u001b[0m\u001b[1;33m\u001b[0m\u001b[1;33m\u001b[0m\u001b[0m\n",
      "\u001b[1;32mD:\\Anaconda\\envs\\gpu\\lib\\site-packages\\sklearn\\cluster\\_kmeans.py\u001b[0m in \u001b[0;36m_kmeans_plusplus\u001b[1;34m(X, n_clusters, x_squared_norms, random_state, n_local_trials)\u001b[0m\n\u001b[0;32m    122\u001b[0m         \u001b[1;31m# Compute distances to center candidates\u001b[0m\u001b[1;33m\u001b[0m\u001b[1;33m\u001b[0m\u001b[1;33m\u001b[0m\u001b[0m\n\u001b[0;32m    123\u001b[0m         distance_to_candidates = euclidean_distances(\n\u001b[1;32m--> 124\u001b[1;33m             X[candidate_ids], X, Y_norm_squared=x_squared_norms, squared=True)\n\u001b[0m\u001b[0;32m    125\u001b[0m \u001b[1;33m\u001b[0m\u001b[0m\n\u001b[0;32m    126\u001b[0m         \u001b[1;31m# update closest distances squared and potential for each candidate\u001b[0m\u001b[1;33m\u001b[0m\u001b[1;33m\u001b[0m\u001b[1;33m\u001b[0m\u001b[0m\n",
      "\u001b[1;32mD:\\Anaconda\\envs\\gpu\\lib\\site-packages\\sklearn\\utils\\validation.py\u001b[0m in \u001b[0;36minner_f\u001b[1;34m(*args, **kwargs)\u001b[0m\n\u001b[0;32m     61\u001b[0m             \u001b[0mextra_args\u001b[0m \u001b[1;33m=\u001b[0m \u001b[0mlen\u001b[0m\u001b[1;33m(\u001b[0m\u001b[0margs\u001b[0m\u001b[1;33m)\u001b[0m \u001b[1;33m-\u001b[0m \u001b[0mlen\u001b[0m\u001b[1;33m(\u001b[0m\u001b[0mall_args\u001b[0m\u001b[1;33m)\u001b[0m\u001b[1;33m\u001b[0m\u001b[1;33m\u001b[0m\u001b[0m\n\u001b[0;32m     62\u001b[0m             \u001b[1;32mif\u001b[0m \u001b[0mextra_args\u001b[0m \u001b[1;33m<=\u001b[0m \u001b[1;36m0\u001b[0m\u001b[1;33m:\u001b[0m\u001b[1;33m\u001b[0m\u001b[1;33m\u001b[0m\u001b[0m\n\u001b[1;32m---> 63\u001b[1;33m                 \u001b[1;32mreturn\u001b[0m \u001b[0mf\u001b[0m\u001b[1;33m(\u001b[0m\u001b[1;33m*\u001b[0m\u001b[0margs\u001b[0m\u001b[1;33m,\u001b[0m \u001b[1;33m**\u001b[0m\u001b[0mkwargs\u001b[0m\u001b[1;33m)\u001b[0m\u001b[1;33m\u001b[0m\u001b[1;33m\u001b[0m\u001b[0m\n\u001b[0m\u001b[0;32m     64\u001b[0m \u001b[1;33m\u001b[0m\u001b[0m\n\u001b[0;32m     65\u001b[0m             \u001b[1;31m# extra_args > 0\u001b[0m\u001b[1;33m\u001b[0m\u001b[1;33m\u001b[0m\u001b[1;33m\u001b[0m\u001b[0m\n",
      "\u001b[1;32mD:\\Anaconda\\envs\\gpu\\lib\\site-packages\\sklearn\\metrics\\pairwise.py\u001b[0m in \u001b[0;36meuclidean_distances\u001b[1;34m(X, Y, Y_norm_squared, squared, X_norm_squared)\u001b[0m\n\u001b[0;32m    314\u001b[0m         \u001b[0mdistances\u001b[0m \u001b[1;33m+=\u001b[0m \u001b[0mXX\u001b[0m\u001b[1;33m\u001b[0m\u001b[1;33m\u001b[0m\u001b[0m\n\u001b[0;32m    315\u001b[0m         \u001b[0mdistances\u001b[0m \u001b[1;33m+=\u001b[0m \u001b[0mYY\u001b[0m\u001b[1;33m\u001b[0m\u001b[1;33m\u001b[0m\u001b[0m\n\u001b[1;32m--> 316\u001b[1;33m     \u001b[0mnp\u001b[0m\u001b[1;33m.\u001b[0m\u001b[0mmaximum\u001b[0m\u001b[1;33m(\u001b[0m\u001b[0mdistances\u001b[0m\u001b[1;33m,\u001b[0m \u001b[1;36m0\u001b[0m\u001b[1;33m,\u001b[0m \u001b[0mout\u001b[0m\u001b[1;33m=\u001b[0m\u001b[0mdistances\u001b[0m\u001b[1;33m)\u001b[0m\u001b[1;33m\u001b[0m\u001b[1;33m\u001b[0m\u001b[0m\n\u001b[0m\u001b[0;32m    317\u001b[0m \u001b[1;33m\u001b[0m\u001b[0m\n\u001b[0;32m    318\u001b[0m     \u001b[1;31m# Ensure that distances between vectors and themselves are set to 0.0.\u001b[0m\u001b[1;33m\u001b[0m\u001b[1;33m\u001b[0m\u001b[1;33m\u001b[0m\u001b[0m\n",
      "\u001b[1;31mKeyboardInterrupt\u001b[0m: "
     ]
    }
   ],
   "source": [
    "from sklearn.preprocessing import StandardScaler\n",
    "\n",
    "path = \"../RawData/CESMZ200/CESM_csvfile\"\n",
    "for filename in os.listdir(path):\n",
    "    f = os.path.join(path,filename)\n",
    "    \n",
    "    if os.path.isfile(f): \n",
    "        f_name = '../RawData/CESMZ200/CESM_csvfile/' + f[33:]\n",
    "        f_name_new = f_name[:-4]\n",
    "    data = pd.read_csv(f_name, header = None)\n",
    "    arr = data.values\n",
    "    train = arr.reshape(-1,1)\n",
    "    \n",
    "    numberofcluster = (train.max() - train.min())//100\n",
    "    \n",
    "    scaler= StandardScaler()\n",
    "    train_scaled =scaler.fit_transform(train) \n",
    "    kmeans = KMeans(n_clusters =numberofcluster).fit(train_scaled)\n",
    "                    \n",
    "    segmented_img = kmeans.cluster_centers_[kmeans.labels_]\n",
    "    segmented_img = segmented_img.reshape(arr.shape)\n",
    "    \n",
    "    image_result_first = im.fromarray(np.uint8(segmented_img))\n",
    "    image_result_sum_FlipHoz = image_result_first.transpose(Image.FLIP_TOP_BOTTOM)\n",
    "    image_result_sum_FlipHoz.save('../Outputs/Pressure_with_norm_IMAGE/'+ f_name_new[33:] +'.png') "
   ]
  },
  {
   "cell_type": "markdown",
   "id": "3b65c69d",
   "metadata": {},
   "source": [
    "# Clusters wout norm +0 IMAGE"
   ]
  },
  {
   "cell_type": "code",
   "execution_count": 8,
   "id": "0b1caa2b",
   "metadata": {
    "collapsed": true
   },
   "outputs": [
    {
     "ename": "FileNotFoundError",
     "evalue": "[WinError 3] 系统找不到指定的路径。: 'CESM_csvfile'",
     "output_type": "error",
     "traceback": [
      "\u001b[1;31m---------------------------------------------------------------------------\u001b[0m",
      "\u001b[1;31mFileNotFoundError\u001b[0m                         Traceback (most recent call last)",
      "\u001b[1;32m<ipython-input-8-f39454985227>\u001b[0m in \u001b[0;36m<module>\u001b[1;34m\u001b[0m\n\u001b[0;32m      1\u001b[0m \u001b[0mpath\u001b[0m \u001b[1;33m=\u001b[0m \u001b[1;34m\"CESM_csvfile\"\u001b[0m\u001b[1;33m\u001b[0m\u001b[1;33m\u001b[0m\u001b[0m\n\u001b[1;32m----> 2\u001b[1;33m \u001b[1;32mfor\u001b[0m \u001b[0mfilename\u001b[0m \u001b[1;32min\u001b[0m \u001b[0mos\u001b[0m\u001b[1;33m.\u001b[0m\u001b[0mlistdir\u001b[0m\u001b[1;33m(\u001b[0m\u001b[0mpath\u001b[0m\u001b[1;33m)\u001b[0m\u001b[1;33m:\u001b[0m\u001b[1;33m\u001b[0m\u001b[1;33m\u001b[0m\u001b[0m\n\u001b[0m\u001b[0;32m      3\u001b[0m     \u001b[0mf\u001b[0m \u001b[1;33m=\u001b[0m \u001b[0mos\u001b[0m\u001b[1;33m.\u001b[0m\u001b[0mpath\u001b[0m\u001b[1;33m.\u001b[0m\u001b[0mjoin\u001b[0m\u001b[1;33m(\u001b[0m\u001b[0mpath\u001b[0m\u001b[1;33m,\u001b[0m\u001b[0mfilename\u001b[0m\u001b[1;33m)\u001b[0m\u001b[1;33m\u001b[0m\u001b[1;33m\u001b[0m\u001b[0m\n\u001b[0;32m      4\u001b[0m \u001b[1;33m\u001b[0m\u001b[0m\n\u001b[0;32m      5\u001b[0m     \u001b[1;32mif\u001b[0m \u001b[0mos\u001b[0m\u001b[1;33m.\u001b[0m\u001b[0mpath\u001b[0m\u001b[1;33m.\u001b[0m\u001b[0misfile\u001b[0m\u001b[1;33m(\u001b[0m\u001b[0mf\u001b[0m\u001b[1;33m)\u001b[0m\u001b[1;33m:\u001b[0m\u001b[1;33m\u001b[0m\u001b[1;33m\u001b[0m\u001b[0m\n",
      "\u001b[1;31mFileNotFoundError\u001b[0m: [WinError 3] 系统找不到指定的路径。: 'CESM_csvfile'"
     ]
    }
   ],
   "source": [
    "path = \"../RawData/CESMZ200/CESM_csvfile\"\n",
    "for filename in os.listdir(path):\n",
    "    f = os.path.join(path,filename)\n",
    "    \n",
    "    if os.path.isfile(f): \n",
    "        f_name = 'CESM_csvfile/' + f[33:]\n",
    "        f_name_new = f_name[:-4]\n",
    "        print(f_name_new)         \n",
    "    data = pd.read_csv(f_name, header = None)\n",
    "    arr = data.values\n",
    "    train = arr.reshape(-1,1)\n",
    "    os.mkdir(f_name_new[13:])\n",
    "    \n",
    "    numberofcluster = (train.max() - train.min())//100\n",
    "    kmeans = KMeans(n_clusters =numberofcluster).fit(train)\n",
    "    \n",
    "    segmented_img = kmeans.cluster_centers_[kmeans.labels_]\n",
    "    segmented_img = segmented_img.reshape(arr.shape)\n",
    "    \n",
    "    temp = kmeans.labels_.copy()\n",
    "    \n",
    "    for i in range(0,numberofcluster):\n",
    "        temp = np.where(segmented_img == kmeans.cluster_centers_[i],255,0)\n",
    "        image_result_first = im.fromarray(np.uint8(temp))\n",
    "        image_result_sum_FlipHoz = image_result_first.transpose(Image.FLIP_TOP_BOTTOM)\n",
    "        image_result_sum_FlipHoz.save(f_name_new[33:] + '/test_c'+str(i+1)+'.png')\n",
    "    \n",
    "    plt.figure(figsize=(113/120,74/120), dpi=120)\n",
    "    plt.imshow(filped_img, cmap = 'gray')\n",
    "\n",
    "    plt.axis('off')\n",
    "    plt.savefig('my_fig.png',bbox_inches='tight', dpi=120, pad_inches = 0)"
   ]
  },
  {
   "cell_type": "code",
   "execution_count": null,
   "id": "6c515cba",
   "metadata": {},
   "outputs": [],
   "source": []
  },
  {
   "cell_type": "code",
   "execution_count": null,
   "id": "c4618e2e",
   "metadata": {},
   "outputs": [],
   "source": []
  },
  {
   "cell_type": "code",
   "execution_count": null,
   "id": "6ff79bba",
   "metadata": {},
   "outputs": [],
   "source": []
  },
  {
   "cell_type": "markdown",
   "id": "6ee58769",
   "metadata": {},
   "source": [
    "# for testing only"
   ]
  },
  {
   "cell_type": "code",
   "execution_count": 4,
   "id": "4c4ab672",
   "metadata": {},
   "outputs": [
    {
     "data": {
      "image/png": "[encoded data removed]",
      "text/plain": [
       "<Figure size 113x74 with 1 Axes>"
      ]
     },
     "metadata": {
      "needs_background": "light"
     },
     "output_type": "display_data"
    },
    {
     "data": {
      "image/png": "[encoded data removed]",
      "text/plain": [
       "<Figure size 113x74 with 1 Axes>"
      ]
     },
     "metadata": {
      "needs_background": "light"
     },
     "output_type": "display_data"
    },
    {
     "data": {
      "image/png": "[encoded data removed]",
      "text/plain": [
       "<Figure size 113x74 with 1 Axes>"
      ]
     },
     "metadata": {
      "needs_background": "light"
     },
     "output_type": "display_data"
    },
    {
     "data": {
      "image/png": "[encoded data removed]",
      "text/plain": [
       "<Figure size 113x74 with 1 Axes>"
      ]
     },
     "metadata": {
      "needs_background": "light"
     },
     "output_type": "display_data"
    },
    {
     "data": {
      "image/png": "[encoded data removed]",
      "text/plain": [
       "<Figure size 113x74 with 1 Axes>"
      ]
     },
     "metadata": {
      "needs_background": "light"
     },
     "output_type": "display_data"
    },
    {
     "data": {
      "image/png": "[encoded data removed]",
      "text/plain": [
       "<Figure size 113x74 with 1 Axes>"
      ]
     },
     "metadata": {
      "needs_background": "light"
     },
     "output_type": "display_data"
    },
    {
     "data": {
      "image/png": "[encoded data removed]",
      "text/plain": [
       "<Figure size 113x74 with 1 Axes>"
      ]
     },
     "metadata": {
      "needs_background": "light"
     },
     "output_type": "display_data"
    },
    {
     "data": {
      "image/png": "[encoded data removed]",
      "text/plain": [
       "<Figure size 113x74 with 1 Axes>"
      ]
     },
     "metadata": {
      "needs_background": "light"
     },
     "output_type": "display_data"
    },
    {
     "data": {
      "image/png": "[encoded data removed]",
      "text/plain": [
       "<Figure size 113x74 with 1 Axes>"
      ]
     },
     "metadata": {
      "needs_background": "light"
     },
     "output_type": "display_data"
    },
    {
     "data": {
      "image/png": "[encoded data removed]",
      "text/plain": [
       "<Figure size 113x74 with 1 Axes>"
      ]
     },
     "metadata": {
      "needs_background": "light"
     },
     "output_type": "display_data"
    },
    {
     "data": {
      "image/png": "[encoded data removed]",
      "text/plain": [
       "<Figure size 113x74 with 1 Axes>"
      ]
     },
     "metadata": {
      "needs_background": "light"
     },
     "output_type": "display_data"
    },
    {
     "data": {
      "image/png": "[encoded data removed]",
      "text/plain": [
       "<Figure size 113x74 with 1 Axes>"
      ]
     },
     "metadata": {
      "needs_background": "light"
     },
     "output_type": "display_data"
    },
    {
     "data": {
      "image/png": "[encoded data removed]",
      "text/plain": [
       "<Figure size 113x74 with 1 Axes>"
      ]
     },
     "metadata": {
      "needs_background": "light"
     },
     "output_type": "display_data"
    },
    {
     "data": {
      "image/png": "[encoded data removed]",
      "text/plain": [
       "<Figure size 113x74 with 1 Axes>"
      ]
     },
     "metadata": {
      "needs_background": "light"
     },
     "output_type": "display_data"
    },
    {
     "data": {
      "image/png": "[encoded data removed]",
      "text/plain": [
       "<Figure size 113x74 with 1 Axes>"
      ]
     },
     "metadata": {
      "needs_background": "light"
     },
     "output_type": "display_data"
    },
    {
     "data": {
      "image/png": "[encoded data removed]",
      "text/plain": [
       "<Figure size 113x74 with 1 Axes>"
      ]
     },
     "metadata": {
      "needs_background": "light"
     },
     "output_type": "display_data"
    },
    {
     "data": {
      "image/png": "[encoded data removed]",
      "text/plain": [
       "<Figure size 113x74 with 1 Axes>"
      ]
     },
     "metadata": {
      "needs_background": "light"
     },
     "output_type": "display_data"
    },
    {
     "data": {
      "image/png": "[encoded data removed]",
      "text/plain": [
       "<Figure size 113x74 with 1 Axes>"
      ]
     },
     "metadata": {
      "needs_background": "light"
     },
     "output_type": "display_data"
    },
    {
     "data": {
      "image/png": "[encoded data removed]",
      "text/plain": [
       "<Figure size 113x74 with 1 Axes>"
      ]
     },
     "metadata": {
      "needs_background": "light"
     },
     "output_type": "display_data"
    }
   ],
   "source": [
    "from sklearn.preprocessing import StandardScaler\n",
    "\n",
    "data = pd.read_csv('../RawData/CESMZ200/CESM_csvfile/day21.csv', header = None)\n",
    "arr = data.values\n",
    "train = arr.reshape(-1,1)\n",
    "    \n",
    "numberofcluster = (train.max() - train.min())//100 + 1\n",
    "\n",
    "scaler= StandardScaler()\n",
    "train_scaled =scaler.fit_transform(train) \n",
    "kmeans = KMeans(n_clusters =numberofcluster).fit(train_scaled)\n",
    "\n",
    "                    \n",
    "segmented_img = kmeans.cluster_centers_[kmeans.labels_]\n",
    "segmented_img = segmented_img.reshape(arr.shape)\n",
    "\n",
    "for i in range(0,numberofcluster):\n",
    "    temp = np.where(segmented_img == kmeans.cluster_centers_[i],255,0)\n",
    "    filped_img = np.flip(temp,0)    \n",
    "    plt.figure(figsize=(113/120,74/120), dpi=120)\n",
    "    plt.imshow(filped_img, cmap = 'gray')\n",
    "\n",
    "    plt.axis('off')\n",
    "    plt.savefig('test_c'+str(i+1)+'.png',bbox_inches='tight', dpi=120, pad_inches = 0)\n",
    "    \n",
    "    #image_result_first = im.fromarray(np.uint8(temp))\n",
    "    #image_result_sum_FlipHoz = image_result_first.transpose(Image.FLIP_TOP_BOTTOM)\n",
    "    #image_result_sum_FlipHoz.save('test_c'+str(i+1)+'.png')\n",
    "\n",
    "filped_img = np.flip(segmented_img,0)    \n",
    "plt.figure(figsize=(113/120,74/120), dpi=120)\n",
    "plt.imshow(filped_img, cmap = 'gray')\n",
    "\n",
    "plt.axis('off')\n",
    "plt.savefig('my_fig.png',bbox_inches='tight', dpi=120, pad_inches = 0)"
   ]
  },
  {
   "cell_type": "code",
   "execution_count": null,
   "id": "32f3832a",
   "metadata": {},
   "outputs": [],
   "source": []
  }
 ],
 "metadata": {
  "kernelspec": {
   "display_name": "Python 3 (ipykernel)",
   "language": "python",
   "name": "python3"
  },
  "language_info": {
   "codemirror_mode": {
    "name": "ipython",
    "version": 3
   },
   "file_extension": ".py",
   "mimetype": "text/x-python",
   "name": "python",
   "nbconvert_exporter": "python",
   "pygments_lexer": "ipython3",
   "version": "3.9.12"
  }
 },
 "nbformat": 4,
 "nbformat_minor": 5
}
